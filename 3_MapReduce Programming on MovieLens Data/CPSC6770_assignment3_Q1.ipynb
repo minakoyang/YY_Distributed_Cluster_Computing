{
 "cells": [
  {
   "cell_type": "code",
   "execution_count": 1,
   "metadata": {},
   "outputs": [],
   "source": [
    "!module add hdp\n",
    "!cypress-kinit"
   ]
  },
  {
   "cell_type": "code",
   "execution_count": 2,
   "metadata": {},
   "outputs": [
    {
     "name": "stdout",
     "output_type": "stream",
     "text": [
      "Found 7 items\r\n",
      "-rw-r--r--   2 lngo hdfs-user      9.3 K 2017-03-15 09:49 /repository/movielens/README.txt\r\n",
      "-rw-r--r--   2 lngo hdfs-user    317.9 M 2017-03-15 09:49 /repository/movielens/genome-scores.csv\r\n",
      "-rw-r--r--   2 lngo hdfs-user     17.7 K 2017-03-15 09:49 /repository/movielens/genome-tags.csv\r\n",
      "-rw-r--r--   2 lngo hdfs-user    839.2 K 2017-03-15 09:49 /repository/movielens/links.csv\r\n",
      "-rw-r--r--   2 lngo hdfs-user      1.9 M 2017-03-15 09:49 /repository/movielens/movies.csv\r\n",
      "-rw-r--r--   2 lngo hdfs-user    632.7 M 2017-03-15 09:49 /repository/movielens/ratings.csv\r\n",
      "-rw-r--r--   2 lngo hdfs-user     22.9 M 2017-03-15 09:49 /repository/movielens/tags.csv\r\n"
     ]
    }
   ],
   "source": [
    "!hdfs dfs -ls -h /repository/movielens  #the movieLen dataset was update in March 2017."
   ]
  },
  {
   "cell_type": "code",
   "execution_count": 3,
   "metadata": {},
   "outputs": [
    {
     "name": "stdout",
     "output_type": "stream",
     "text": [
      "Overwriting solution/genreMapper.py\n"
     ]
    }
   ],
   "source": [
    "%%writefile solution/genreMapper.py\n",
    "#!/usr/bin/env python\n",
    "\n",
    "import sys\n",
    "import csv\n",
    "\n",
    "movieFile = \"./movielens/movies.csv\"\n",
    "movieList = {}\n",
    "\n",
    "with open(movieFile, mode = 'r') as infile:\n",
    "    reader = csv.reader(infile)\n",
    "    for row in reader:\n",
    "        movieList[row[0]] = {}\n",
    "        movieList[row[0]][\"title\"] = row[1]\n",
    "        movieList[row[0]][\"genre\"] = row[2]\n",
    "        \n",
    "for oneMovie in sys.stdin:\n",
    "    oneMovie = oneMovie.strip()\n",
    "    ratingInfo = oneMovie.split(\",\")\n",
    "    \n",
    "    try:\n",
    "        genreList = movieList[ratingInfo[1]][\"genre\"]\n",
    "        rating = float(ratingInfo[2])\n",
    "        for genre in genreList.split(\"|\"):\n",
    "            print(\"%s\\t%s\" % (genre, rating))    \n",
    "    except ValueError:\n",
    "        continue"
   ]
  },
  {
   "cell_type": "code",
   "execution_count": 4,
   "metadata": {},
   "outputs": [
    {
     "name": "stdout",
     "output_type": "stream",
     "text": [
      "Overwriting solution/genreReducer.py\n"
     ]
    }
   ],
   "source": [
    "%%writefile solution/genreReducer.py \n",
    "#!/usr/bin/env python\n",
    "\n",
    "import sys\n",
    "import statistics\n",
    "import csv\n",
    "import json\n",
    "\n",
    "current_genre = None\n",
    "ratings = []\n",
    "print(\"Genre\\t\\tMean\\t\\tMedian\\t\\tStandard Deviation Sample\")\n",
    "\n",
    "for line in sys.stdin:\n",
    "    line = line.strip()\n",
    "    genre, rating = line.split(\"\\t\", 1)\n",
    "\n",
    "    if current_genre == genre:\n",
    "        try:\n",
    "            ratings.append(float(rating))\n",
    "        except ValueError:\n",
    "            continue    \n",
    "    else:\n",
    "        if current_genre:\n",
    "            rating_mean = sum(ratings) / len(ratings)\n",
    "            rating_median = statistics.median(ratings)\n",
    "            rating_stdev = statistics.stdev(ratings) # Sample standard deviation of data.\n",
    "            print (\"%s\\t\\t%.4f\\t\\t%s\\t\\t%.4f\" % (current_genre, rating_mean, rating_median, rating_stdev))\n",
    "        current_genre = genre\n",
    "        try:\n",
    "            ratings = [float(rating)]\n",
    "        except ValueError:\n",
    "            continue\n",
    "\n",
    "if current_genre == genre:\n",
    "    rating_mean = sum(ratings) / len(ratings)\n",
    "    rating_median = statistics.median(ratings)\n",
    "    rating_stdev = statistics.stdev(ratings) # Sample standard deviation of data.\n",
    "    print (\"%s\\t\\t%.4f\\t\\t%s\\t\\t%.4f\" % (current_genre, rating_mean, rating_median, rating_stdev))\n",
    "        \n",
    "    "
   ]
  },
  {
   "cell_type": "code",
   "execution_count": 6,
   "metadata": {},
   "outputs": [
    {
     "name": "stdout",
     "output_type": "stream",
     "text": [
      "Genre\t\tMean\t\tMedian\t\tStandard Deviation Sample\n",
      "Action\t\t3.4545\t\t3.5\t\t1.0721\n",
      "Adventure\t\t3.5071\t\t3.5\t\t1.0675\n",
      "Animation\t\t3.6105\t\t4.0\t\t1.0317\n",
      "Children\t\t3.4166\t\t3.5\t\t1.1011\n",
      "Comedy\t\t3.4175\t\t3.5\t\t1.0850\n",
      "Crime\t\t3.6785\t\t4.0\t\t1.0132\n",
      "Documentary\t\t3.7228\t\t4.0\t\t1.0220\n",
      "Drama\t\t3.6743\t\t4.0\t\t1.0025\n",
      "Fantasy\t\t3.5030\t\t3.5\t\t1.0868\n",
      "Film-Noir\t\t3.9408\t\t4.0\t\t0.9155\n",
      "Horror\t\t3.2753\t\t3.5\t\t1.1521\n",
      "IMAX\t\t3.6371\t\t4.0\t\t1.0275\n",
      "Musical\t\t3.5439\t\t4.0\t\t1.0627\n",
      "Mystery\t\t3.6615\t\t4.0\t\t1.0119\n",
      "(no genres listed)\t\t3.2080\t\t3.5\t\t1.2311\n",
      "Romance\t\t3.5425\t\t4.0\t\t1.0468\n",
      "Sci-Fi\t\t3.4552\t\t3.5\t\t1.0916\n",
      "Thriller\t\t3.5127\t\t3.5\t\t1.0399\n",
      "War\t\t3.8033\t\t4.0\t\t0.9969\n",
      "Western\t\t3.5716\t\t4.0\t\t1.0256\n"
     ]
    }
   ],
   "source": [
    "!hdfs dfs -cat /repository/movielens/ratings.csv 2>/dev/null \\\n",
    "    | python ./solution/genreMapper.py \\\n",
    "    | sort \\\n",
    "    | python ./solution/genreReducer.py"
   ]
  },
  {
   "cell_type": "code",
   "execution_count": 9,
   "metadata": {},
   "outputs": [
    {
     "name": "stdout",
     "output_type": "stream",
     "text": [
      "Overwriting solution/meanGenreReducer.py\n"
     ]
    }
   ],
   "source": [
    "%%writefile solution/meanGenreReducer.py\n",
    "#!/usr/bin/env python\n",
    "import sys\n",
    "\n",
    "current_genre = None\n",
    "current_rating_sum = 0\n",
    "current_rating_count = 0\n",
    "print(\"Genre\\t\\tMean\")\n",
    "\n",
    "for line in sys.stdin:\n",
    "    line = line.strip()\n",
    "    genre, rating = line.split(\"\\t\", 1)\n",
    "\n",
    "    if current_genre == genre:\n",
    "        try:\n",
    "            current_rating_sum += float(rating)\n",
    "            current_rating_count += 1\n",
    "        except ValueError:\n",
    "            continue    \n",
    "    else:\n",
    "        if current_genre:\n",
    "            rating_average = current_rating_sum / current_rating_count\n",
    "            print (\"%s\\t\\t%.4f\" % (current_genre, rating_average))    \n",
    "        current_genre = genre\n",
    "        try:\n",
    "            current_rating_sum = float(rating)\n",
    "            current_rating_count = 1\n",
    "        except ValueError:\n",
    "            continue\n",
    "\n",
    "if current_genre == genre:\n",
    "    rating_average = current_rating_sum / current_rating_count\n",
    "    print (\"%s\\t\\t%.4f\" % (current_genre, rating_average))  "
   ]
  },
  {
   "cell_type": "code",
   "execution_count": 10,
   "metadata": {},
   "outputs": [
    {
     "name": "stdout",
     "output_type": "stream",
     "text": [
      "Genre\t\tMean\n",
      "Action\t\t3.4545\n",
      "Adventure\t\t3.5071\n",
      "Animation\t\t3.6105\n",
      "Children\t\t3.4166\n",
      "Comedy\t\t3.4175\n",
      "Crime\t\t3.6785\n",
      "Documentary\t\t3.7228\n",
      "Drama\t\t3.6743\n",
      "Fantasy\t\t3.5030\n",
      "Film-Noir\t\t3.9408\n",
      "Horror\t\t3.2753\n",
      "IMAX\t\t3.6371\n",
      "Musical\t\t3.5439\n",
      "Mystery\t\t3.6615\n",
      "(no genres listed)\t\t3.2080\n",
      "Romance\t\t3.5425\n",
      "Sci-Fi\t\t3.4552\n",
      "Thriller\t\t3.5127\n",
      "War\t\t3.8033\n",
      "Western\t\t3.5716\n"
     ]
    }
   ],
   "source": [
    "!hdfs dfs -cat /repository/movielens/ratings.csv 2>/dev/null \\\n",
    "    | python ./solution/genreMapper.py \\\n",
    "    | sort \\\n",
    "    | python ./solution/meanGenreReducer.py"
   ]
  },
  {
   "cell_type": "code",
   "execution_count": 11,
   "metadata": {},
   "outputs": [
    {
     "name": "stdout",
     "output_type": "stream",
     "text": [
      "Writing solution/medianGenreReducer.py\n"
     ]
    }
   ],
   "source": [
    "%%writefile solution/medianGenreReducer.py\n",
    "#!/usr/bin/env python\n",
    "import sys\n",
    "import statistics\n",
    "\n",
    "current_genre = None\n",
    "ratings = []\n",
    "print(\"Genre\\t\\tMedian\")\n",
    "\n",
    "for line in sys.stdin:\n",
    "    line = line.strip()\n",
    "    genre, rating = line.split(\"\\t\", 1)\n",
    "\n",
    "    if current_genre == genre:\n",
    "        try:\n",
    "            ratings.append(float(rating))\n",
    "        except ValueError:\n",
    "            continue    \n",
    "    else:\n",
    "        if current_genre:\n",
    "            rating_median = statistics.median(ratings)\n",
    "            print (\"%s\\t\\t%.4f\" % (current_genre, rating_median))    \n",
    "        current_genre = genre\n",
    "        try:\n",
    "            ratings = [float(rating)]\n",
    "        except ValueError:\n",
    "            continue\n",
    "\n",
    "if current_genre == genre:\n",
    "        rating_median = statistics.median(ratings)\n",
    "        print (\"%s\\t\\t%.4f\" % (current_genre, rating_median))  "
   ]
  },
  {
   "cell_type": "code",
   "execution_count": 12,
   "metadata": {},
   "outputs": [
    {
     "name": "stdout",
     "output_type": "stream",
     "text": [
      "Genre\t\tMedian\n",
      "Action\t\t3.5000\n",
      "Adventure\t\t3.5000\n",
      "Animation\t\t4.0000\n",
      "Children\t\t3.5000\n",
      "Comedy\t\t3.5000\n",
      "Crime\t\t4.0000\n",
      "Documentary\t\t4.0000\n",
      "Drama\t\t4.0000\n",
      "Fantasy\t\t3.5000\n",
      "Film-Noir\t\t4.0000\n",
      "Horror\t\t3.5000\n",
      "IMAX\t\t4.0000\n",
      "Musical\t\t4.0000\n",
      "Mystery\t\t4.0000\n",
      "(no genres listed)\t\t3.5000\n",
      "Romance\t\t4.0000\n",
      "Sci-Fi\t\t3.5000\n",
      "Thriller\t\t3.5000\n",
      "War\t\t4.0000\n",
      "Western\t\t4.0000\n"
     ]
    }
   ],
   "source": [
    "!hdfs dfs -cat /repository/movielens/ratings.csv 2>/dev/null \\\n",
    "    | python ./solution/genreMapper.py \\\n",
    "    | sort \\\n",
    "    | python ./solution/medianGenreReducer.py"
   ]
  },
  {
   "cell_type": "code",
   "execution_count": 13,
   "metadata": {},
   "outputs": [
    {
     "name": "stdout",
     "output_type": "stream",
     "text": [
      "Writing solution/stdevGenreReducer.py\n"
     ]
    }
   ],
   "source": [
    "%%writefile solution/stdevGenreReducer.py\n",
    "#!/usr/bin/env python\n",
    "import sys\n",
    "import statistics\n",
    "\n",
    "current_genre = None\n",
    "ratings = []\n",
    "print(\"Genre\\t\\tStandard Deviation Sample\")\n",
    "\n",
    "for line in sys.stdin:\n",
    "    line = line.strip()\n",
    "    genre, rating = line.split(\"\\t\", 1)\n",
    "\n",
    "    if current_genre == genre:\n",
    "        try:\n",
    "            ratings.append(float(rating))\n",
    "        except ValueError:\n",
    "            continue    \n",
    "    else:\n",
    "        if current_genre:\n",
    "            rating_stdev = statistics.stdev(ratings)\n",
    "            print (\"%s\\t%s\" % (current_genre, rating_stdev))    \n",
    "        current_genre = genre\n",
    "        try:\n",
    "            ratings = [float(rating)]\n",
    "        except ValueError:\n",
    "            continue\n",
    "\n",
    "if current_genre == genre:\n",
    "        rating_stdev = statistics.stdev(ratings)\n",
    "        print (\"%s\\t%s\" % (current_genre, rating_stdev))"
   ]
  },
  {
   "cell_type": "code",
   "execution_count": 14,
   "metadata": {},
   "outputs": [
    {
     "name": "stdout",
     "output_type": "stream",
     "text": [
      "Genre\t\tStandard Deviation Sample\n",
      "Action\t1.0721365559782599\n",
      "Adventure\t1.0675220659603486\n",
      "Animation\t1.0317178473795843\n",
      "Children\t1.1010527199833091\n",
      "Comedy\t1.0850123560000309\n",
      "Crime\t1.0132314135781613\n",
      "Documentary\t1.0220074103047196\n",
      "Drama\t1.002524350894216\n",
      "Fantasy\t1.0867500247329882\n",
      "Film-Noir\t0.9154781611402477\n",
      "Horror\t1.1520617325923062\n",
      "IMAX\t1.0274731139134385\n",
      "Musical\t1.0627111413546169\n",
      "Mystery\t1.0119406716579022\n",
      "(no genres listed)\t1.2310507794221146\n",
      "Romance\t1.046780167005858\n",
      "Sci-Fi\t1.0916316918987354\n",
      "Thriller\t1.0398685086065347\n",
      "War\t0.9968902171996887\n",
      "Western\t1.0256165325514484\n"
     ]
    }
   ],
   "source": [
    "!hdfs dfs -cat /repository/movielens/ratings.csv 2>/dev/null \\\n",
    "    | python ./solution/genreMapper.py \\\n",
    "    | sort \\\n",
    "    | python ./solution/stdevGenreReducer.py"
   ]
  },
  {
   "cell_type": "code",
   "execution_count": null,
   "metadata": {},
   "outputs": [],
   "source": []
  }
 ],
 "metadata": {
  "kernelspec": {
   "display_name": "Python 3 (Anaconda 5.1.0)",
   "language": "python",
   "name": "anaconda3-5.1.0"
  },
  "language_info": {
   "codemirror_mode": {
    "name": "ipython",
    "version": 3
   },
   "file_extension": ".py",
   "mimetype": "text/x-python",
   "name": "python",
   "nbconvert_exporter": "python",
   "pygments_lexer": "ipython3",
   "version": "3.6.4"
  }
 },
 "nbformat": 4,
 "nbformat_minor": 2
}
