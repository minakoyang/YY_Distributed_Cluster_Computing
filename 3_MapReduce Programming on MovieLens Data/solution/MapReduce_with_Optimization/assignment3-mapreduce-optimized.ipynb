{
 "cells": [
  {
   "cell_type": "markdown",
   "metadata": {},
   "source": [
    "# <center> Introduction to Hadoop MapReduce -- Debugging </center>"
   ]
  },
  {
   "cell_type": "markdown",
   "metadata": {},
   "source": [
    "## Example: Movie Ratings"
   ]
  },
  {
   "cell_type": "markdown",
   "metadata": {},
   "source": [
    "** Data: Movie Ratings and Recommendation **\n",
    "\n",
    "An independent movie company is looking to invest in a new movie project. With limited finance, the company wants to \n",
    "analyze the reaction of audiences, particularly toward various movie genres, in order to identify beneficial \n",
    "movie project to focus on. The company relies on data collected from a publicly available recommendation service \n",
    "by [MovieLens](http://dl.acm.org/citation.cfm?id=2827872). This \n",
    "[dataset](http://files.grouplens.org/datasets/movielens/ml-10m-README.html) contains **24404096** ratings and **668953**\n",
    " tag applications across **40110** movies. These data were created by **247753** users between January 09, 1995 and January 29, 2016. This dataset was generated on October 17, 2016. \n",
    "\n",
    "From this dataset, several analyses are possible, include the followings:\n",
    "1.   Find movies which have the highest average ratings over the years and identify the corresponding genre.\n",
    "2.   Find genres which have the highest average ratings over the years.\n",
    "3.   Find users who rate movies most frequently in order to contact them for in-depth marketing analysis.\n",
    "\n",
    "These types of analyses, which are somewhat ambiguous, demand the ability to quickly process large amount of data in \n",
    "elatively short amount of time for decision support purposes. In these situations, the sizes of the data typically \n",
    "make analysis done on a single machine impossible and analysis done using a remote storage system impractical. For \n",
    "remainder of the lessons, we will learn how HDFS provides the basis to store massive amount of data and to enable \n",
    "the programming approach to analyze these data."
   ]
  },
  {
   "cell_type": "code",
   "execution_count": 1,
   "metadata": {},
   "outputs": [],
   "source": [
    "!module add hdp"
   ]
  },
  {
   "cell_type": "code",
   "execution_count": 2,
   "metadata": {},
   "outputs": [],
   "source": [
    "!cypress-kinit"
   ]
  },
  {
   "cell_type": "code",
   "execution_count": 3,
   "metadata": {
    "scrolled": true
   },
   "outputs": [
    {
     "name": "stdout",
     "output_type": "stream",
     "text": [
      "Found 7 items\r\n",
      "-rw-r--r--   2 lngo hdfs-user      9.3 K 2017-03-15 09:49 /repository/movielens/README.txt\r\n",
      "-rw-r--r--   2 lngo hdfs-user    317.9 M 2017-03-15 09:49 /repository/movielens/genome-scores.csv\r\n",
      "-rw-r--r--   2 lngo hdfs-user     17.7 K 2017-03-15 09:49 /repository/movielens/genome-tags.csv\r\n",
      "-rw-r--r--   2 lngo hdfs-user    839.2 K 2017-03-15 09:49 /repository/movielens/links.csv\r\n",
      "-rw-r--r--   2 lngo hdfs-user      1.9 M 2017-03-15 09:49 /repository/movielens/movies.csv\r\n",
      "-rw-r--r--   2 lngo hdfs-user    632.7 M 2017-03-15 09:49 /repository/movielens/ratings.csv\r\n",
      "-rw-r--r--   2 lngo hdfs-user     22.9 M 2017-03-15 09:49 /repository/movielens/tags.csv\r\n"
     ]
    }
   ],
   "source": [
    "!hdfs dfs -ls -h /repository/movielens"
   ]
  },
  {
   "cell_type": "markdown",
   "metadata": {},
   "source": [
    "### Find movies which have the highest average ratings over the years and report their ratings and genres\n",
    "\n",
    "- Find the average ratings of all movies over the years\n",
    "- Sort the average ratings from highest to lowest\n",
    "- Report the results, augmented by genres"
   ]
  },
  {
   "cell_type": "code",
   "execution_count": 4,
   "metadata": {},
   "outputs": [
    {
     "name": "stdout",
     "output_type": "stream",
     "text": [
      "Overwriting meanGenreMapper.py\n"
     ]
    }
   ],
   "source": [
    "%%writefile meanGenreMapper.py\n",
    "#!/usr/bin/env python\n",
    "\n",
    "import sys\n",
    "import csv\n",
    "import json\n",
    "\n",
    "# for nonHDFS run\n",
    "# movieFile = \"./movielens/movies.csv\"\n",
    "\n",
    "# for HDFS run\n",
    "movieFile = \"./movies.csv\"\n",
    "\n",
    "movieList = {}\n",
    "genreList = {}\n",
    "\n",
    "with open(movieFile, mode = 'r') as infile:\n",
    "    reader = csv.reader(infile)\n",
    "    for row in reader:\n",
    "        movieList[row[0]] = {}\n",
    "        movieList[row[0]][\"title\"] = row[1]\n",
    "        movieList[row[0]][\"genre\"] = row[2]\n",
    "\n",
    "for oneMovie in sys.stdin:\n",
    "    oneMovie = oneMovie.strip()\n",
    "    ratingInfo = oneMovie.split(\",\")\n",
    "    try:\n",
    "        genres = movieList[ratingInfo[1]][\"genre\"]\n",
    "        rating = float(ratingInfo[2])\n",
    "        for genre in genres.split(\"|\"):\n",
    "            if genre in genreList:\n",
    "                genreList[genre][\"total_rating\"] += rating\n",
    "                genreList[genre][\"total_count\"] += 1\n",
    "            else:\n",
    "                genreList[genre] = {}\n",
    "                genreList[genre][\"total_rating\"] = rating\n",
    "                genreList[genre][\"total_count\"] = 1\n",
    "    except ValueError:\n",
    "        continue\n",
    "        \n",
    "for genre in genreList:\n",
    "    print (\"%s\\t%s\" % (genre, json.dumps(genreList[genre])))"
   ]
  },
  {
   "cell_type": "code",
   "execution_count": 5,
   "metadata": {},
   "outputs": [
    {
     "name": "stdout",
     "output_type": "stream",
     "text": [
      "Action\t{\"total_count\": 1, \"total_rating\": 1.0}\r\n",
      "Comedy\t{\"total_count\": 2, \"total_rating\": 6.0}\r\n",
      "Crime\t{\"total_count\": 1, \"total_rating\": 5.0}\r\n",
      "Drama\t{\"total_count\": 1, \"total_rating\": 5.0}\r\n",
      "Romance\t{\"total_count\": 2, \"total_rating\": 6.0}\r\n",
      "Sci-Fi\t{\"total_count\": 1, \"total_rating\": 1.0}\r\n",
      "Thriller\t{\"total_count\": 1, \"total_rating\": 1.0}\r\n"
     ]
    }
   ],
   "source": [
    "!hdfs dfs -cat /repository/movielens/ratings.csv \\\n",
    "    2>/dev/null | head -n 5 | python meanGenreMapper.py | sort"
   ]
  },
  {
   "cell_type": "code",
   "execution_count": 6,
   "metadata": {},
   "outputs": [
    {
     "name": "stdout",
     "output_type": "stream",
     "text": [
      "Overwriting meanGenreReducer.py\n"
     ]
    }
   ],
   "source": [
    "%%writefile meanGenreReducer.py\n",
    "#!/usr/bin/env python\n",
    "import sys\n",
    "import json\n",
    "\n",
    "for line in sys.stdin:\n",
    "    line = line.strip()\n",
    "    genre, ratingString = line.split(\"\\t\", 1)\n",
    "    ratingInfo = json.loads(ratingString)\n",
    "    \n",
    "    rating_sum = ratingInfo[\"total_rating\"]\n",
    "    rating_count = ratingInfo[\"total_count\"]\n",
    "\n",
    "    rating_average = rating_sum / rating_count\n",
    "    print (\"%s\\t%s\" % (genre, rating_average))"
   ]
  },
  {
   "cell_type": "code",
   "execution_count": 7,
   "metadata": {},
   "outputs": [
    {
     "name": "stdout",
     "output_type": "stream",
     "text": [
      "Action\t3.611111111111111\r\n",
      "Adventure\t3.6334745762711864\r\n",
      "Animation\t3.8511904761904763\r\n",
      "Children\t3.6458333333333335\r\n",
      "Comedy\t3.607769423558897\r\n",
      "Crime\t3.7708333333333335\r\n",
      "Documentary\t3.3333333333333335\r\n",
      "Drama\t3.759023354564756\r\n",
      "Fantasy\t3.6313559322033897\r\n",
      "Film-Noir\t4.1\r\n",
      "Horror\t3.1714285714285713\r\n",
      "IMAX\t3.9054054054054053\r\n",
      "Musical\t3.6475409836065573\r\n",
      "Mystery\t3.6339285714285716\r\n",
      "Romance\t3.7320143884892087\r\n",
      "Sci-Fi\t3.4507575757575757\r\n",
      "Thriller\t3.5379464285714284\r\n",
      "War\t3.8545454545454545\r\n",
      "Western\t3.5\r\n"
     ]
    }
   ],
   "source": [
    "!hdfs dfs -cat /repository/movielens/ratings.csv 2>/dev/null \\\n",
    "    | head -n 1000 \\\n",
    "    | python meanGenreMapper.py \\\n",
    "    | sort \\\n",
    "    | python meanGenreReducer.py"
   ]
  },
  {
   "cell_type": "code",
   "execution_count": 8,
   "metadata": {},
   "outputs": [
    {
     "name": "stdout",
     "output_type": "stream",
     "text": [
      "Action\t3.4544531514134182\r\n",
      "Adventure\t3.507091937178361\r\n",
      "Animation\t3.610498964247507\r\n",
      "Children\t3.4166406309798836\r\n",
      "Comedy\t3.4174603547910225\r\n",
      "Crime\t3.6785019629867692\r\n",
      "Documentary\t3.722772310125531\r\n",
      "Drama\t3.6742773734853547\r\n",
      "Fantasy\t3.5029912314315985\r\n",
      "Film-Noir\t3.9408055354000218\r\n",
      "Horror\t3.275260214307868\r\n",
      "IMAX\t3.637097658372336\r\n",
      "Musical\t3.5439135923140777\r\n",
      "Mystery\t3.6615097685590157\r\n",
      "(no genres listed)\t3.208014943114281\r\n",
      "Romance\t3.5424619995390905\r\n",
      "Sci-Fi\t3.455172838867968\r\n",
      "Thriller\t3.5126902934511794\r\n",
      "War\t3.8032667825565434\r\n",
      "Western\t3.571619485587279\r\n"
     ]
    }
   ],
   "source": [
    "!hdfs dfs -cat /repository/movielens/ratings.csv 2>/dev/null \\\n",
    "    | python meanGenreMapper.py \\\n",
    "    | sort \\\n",
    "    | python meanGenreReducer.py"
   ]
  },
  {
   "cell_type": "code",
   "execution_count": 9,
   "metadata": {},
   "outputs": [
    {
     "name": "stdout",
     "output_type": "stream",
     "text": [
      "Overwriting genreMapper.py\n"
     ]
    }
   ],
   "source": [
    "%%writefile genreMapper.py\n",
    "#!/usr/bin/env python\n",
    "\n",
    "import sys\n",
    "import csv\n",
    "import json\n",
    "\n",
    "# for nonHDFS run\n",
    "# movieFile = \"./movielens/movies.csv\"\n",
    "\n",
    "# for HDFS run\n",
    "movieFile = \"./movies.csv\"\n",
    "\n",
    "movieList = {}\n",
    "genreList = {}\n",
    "\n",
    "with open(movieFile, mode = 'r') as infile:\n",
    "    reader = csv.reader(infile)\n",
    "    for row in reader:\n",
    "        movieList[row[0]] = {}\n",
    "        movieList[row[0]][\"title\"] = row[1]\n",
    "        movieList[row[0]][\"genre\"] = row[2]\n",
    "\n",
    "for oneMovie in sys.stdin:\n",
    "    oneMovie = oneMovie.strip()\n",
    "    ratingInfo = oneMovie.split(\",\")\n",
    "    try:\n",
    "        genres = movieList[ratingInfo[1]][\"genre\"]\n",
    "        rating = float(ratingInfo[2])\n",
    "        for genre in genres.split(\"|\"):\n",
    "            if genre not in genreList:\n",
    "                genreList[genre] = []\n",
    "            genreList[genre].append(rating)\n",
    "    except ValueError:\n",
    "        continue\n",
    "        \n",
    "for genre in genreList:\n",
    "    print (\"%s\\t%s\" % (genre, json.dumps(genreList[genre])))"
   ]
  },
  {
   "cell_type": "code",
   "execution_count": 10,
   "metadata": {},
   "outputs": [
    {
     "name": "stdout",
     "output_type": "stream",
     "text": [
      "Action\t[1.0, 2.0]\r\n",
      "Adventure\t[2.0]\r\n",
      "Comedy\t[2.0, 4.0, 2.0]\r\n",
      "Crime\t[5.0]\r\n",
      "Drama\t[5.0, 3.0, 3.0]\r\n",
      "Horror\t[1.0]\r\n",
      "Romance\t[2.0, 4.0]\r\n",
      "Sci-Fi\t[1.0]\r\n",
      "Thriller\t[1.0, 3.0, 2.0]\r\n"
     ]
    }
   ],
   "source": [
    "!hdfs dfs -cat /repository/movielens/ratings.csv 2>/dev/null \\\n",
    "    | head -n 10 \\\n",
    "    | python genreMapper.py \\\n",
    "    | sort \\"
   ]
  },
  {
   "cell_type": "code",
   "execution_count": 11,
   "metadata": {
    "scrolled": true
   },
   "outputs": [
    {
     "name": "stdout",
     "output_type": "stream",
     "text": [
      "Overwriting medianGenreReducer.py\n"
     ]
    }
   ],
   "source": [
    "%%writefile medianGenreReducer.py\n",
    "#!/usr/bin/env python\n",
    "import sys\n",
    "import statistics\n",
    "import json\n",
    "\n",
    "for line in sys.stdin:\n",
    "    line = line.strip()\n",
    "    genre, ratingString = line.split(\"\\t\", 1)\n",
    "    ratingInfo = json.loads(ratingString)\n",
    "    \n",
    "    rating_median = statistics.median(ratingInfo)\n",
    "    print (\"%s\\t%s\" % (genre, rating_median))    "
   ]
  },
  {
   "cell_type": "code",
   "execution_count": 12,
   "metadata": {},
   "outputs": [
    {
     "name": "stdout",
     "output_type": "stream",
     "text": [
      "Action\t3.5\r\n",
      "Adventure\t4.0\r\n",
      "Animation\t4.0\r\n",
      "Children\t4.0\r\n",
      "Comedy\t3.5\r\n",
      "Crime\t4.0\r\n",
      "Documentary\t4.0\r\n",
      "Drama\t4.0\r\n",
      "Fantasy\t4.0\r\n",
      "Film-Noir\t4.0\r\n",
      "Horror\t3.5\r\n",
      "IMAX\t4.0\r\n",
      "Musical\t4.0\r\n",
      "Mystery\t3.5\r\n",
      "Romance\t4.0\r\n",
      "Sci-Fi\t3.5\r\n",
      "Thriller\t3.5\r\n",
      "War\t4.0\r\n",
      "Western\t3.5\r\n"
     ]
    }
   ],
   "source": [
    "!hdfs dfs -cat /repository/movielens/ratings.csv 2>/dev/null \\\n",
    "    | head -n 1000 \\\n",
    "    | python genreMapper.py \\\n",
    "    | sort \\\n",
    "    | python medianGenreReducer.py"
   ]
  },
  {
   "cell_type": "code",
   "execution_count": 13,
   "metadata": {},
   "outputs": [
    {
     "name": "stdout",
     "output_type": "stream",
     "text": [
      "Action\t3.5\n",
      "Adventure\t3.5\n",
      "Animation\t4.0\n",
      "Children\t3.5\n",
      "Comedy\t3.5\n",
      "Crime\t4.0\n",
      "Documentary\t4.0\n",
      "Drama\t4.0\n",
      "Fantasy\t3.5\n",
      "Film-Noir\t4.0\n",
      "Horror\t3.5\n",
      "IMAX\t4.0\n",
      "Musical\t4.0\n",
      "Mystery\t4.0\n",
      "(no genres listed)\t3.5\n",
      "Romance\t4.0\n",
      "Sci-Fi\t3.5\n",
      "Thriller\t3.5\n",
      "War\t4.0\n",
      "Western\t4.0\n"
     ]
    }
   ],
   "source": [
    "!hdfs dfs -cat /repository/movielens/ratings.csv 2>/dev/null \\\n",
    "    | python genreMapper.py \\\n",
    "    | sort \\\n",
    "    | python medianGenreReducer.py"
   ]
  },
  {
   "cell_type": "code",
   "execution_count": 14,
   "metadata": {},
   "outputs": [
    {
     "name": "stdout",
     "output_type": "stream",
     "text": [
      "Overwriting stdevGenreReducer.py\n"
     ]
    }
   ],
   "source": [
    "%%writefile stdevGenreReducer.py\n",
    "#!/usr/bin/env python\n",
    "import sys\n",
    "import statistics\n",
    "import json\n",
    "\n",
    "for line in sys.stdin:\n",
    "    line = line.strip()\n",
    "    genre, ratingString = line.split(\"\\t\", 1)\n",
    "    ratingInfo = json.loads(ratingString)\n",
    "    \n",
    "    rating_stdev = statistics.stdev(ratingInfo)\n",
    "    print (\"%s\\t%s\" % (genre, rating_stdev))    "
   ]
  },
  {
   "cell_type": "code",
   "execution_count": 15,
   "metadata": {},
   "outputs": [
    {
     "name": "stdout",
     "output_type": "stream",
     "text": [
      "Action\t0.9462024864156431\n",
      "Adventure\t0.8740844470801887\n",
      "Animation\t0.7354195667680543\n",
      "Children\t0.838655970905242\n",
      "Comedy\t0.8971841975811686\n",
      "Crime\t0.882770194775071\n",
      "Documentary\t2.081665999466133\n",
      "Drama\t0.8805210627841876\n",
      "Fantasy\t0.8732197178535702\n",
      "Film-Noir\t0.22360679774997896\n",
      "Horror\t1.1627987101541413\n",
      "IMAX\t0.7438436013728311\n",
      "Musical\t1.0462005157357184\n",
      "Mystery\t0.8338905063756132\n",
      "Romance\t0.8309992939269115\n",
      "Sci-Fi\t1.001639588098427\n",
      "Thriller\t0.8932418293648692\n",
      "War\t0.900990850000438\n",
      "Western\t1.0690449676496976\n"
     ]
    }
   ],
   "source": [
    "!hdfs dfs -cat /repository/movielens/ratings.csv 2>/dev/null \\\n",
    "    | head -n 1000 \\\n",
    "    | python genreMapper.py \\\n",
    "    | sort \\\n",
    "    | python stdevGenreReducer.py"
   ]
  },
  {
   "cell_type": "code",
   "execution_count": 16,
   "metadata": {},
   "outputs": [
    {
     "name": "stdout",
     "output_type": "stream",
     "text": [
      "Action\t1.0721365559782599\n",
      "Adventure\t1.0675220659603486\n",
      "Animation\t1.0317178473795843\n",
      "Children\t1.1010527199833091\n",
      "Comedy\t1.0850123560000309\n",
      "Crime\t1.0132314135781613\n",
      "Documentary\t1.0220074103047196\n",
      "Drama\t1.002524350894216\n",
      "Fantasy\t1.0867500247329882\n",
      "Film-Noir\t0.9154781611402477\n",
      "Horror\t1.1520617325923062\n",
      "IMAX\t1.0274731139134385\n",
      "Musical\t1.0627111413546169\n",
      "Mystery\t1.0119406716579022\n",
      "(no genres listed)\t1.2310507794221146\n",
      "Romance\t1.046780167005858\n",
      "Sci-Fi\t1.0916316918987354\n",
      "Thriller\t1.0398685086065347\n",
      "War\t0.9968902171996887\n",
      "Western\t1.0256165325514484\n"
     ]
    }
   ],
   "source": [
    "!hdfs dfs -cat /repository/movielens/ratings.csv 2>/dev/null \\\n",
    "    | python genreMapper.py \\\n",
    "    | sort \\\n",
    "    | python stdevGenreReducer.py"
   ]
  },
  {
   "cell_type": "code",
   "execution_count": 17,
   "metadata": {},
   "outputs": [
    {
     "name": "stdout",
     "output_type": "stream",
     "text": [
      "Overwriting genreReducer.py\n"
     ]
    }
   ],
   "source": [
    "%%writefile genreReducer.py\n",
    "#!/usr/bin/env python\n",
    "import sys\n",
    "import statistics\n",
    "import json\n",
    "\n",
    "print(\"Genre\\t\\tMean\\t\\tMedian\\t\\tStandard deviation\")\n",
    "for line in sys.stdin:\n",
    "    line = line.strip()\n",
    "    genre, ratingString = line.split(\"\\t\", 1)\n",
    "    ratings = json.loads(ratingString)\n",
    "    \n",
    "    rating_mean = sum(ratings) / len(ratings)\n",
    "    rating_median = statistics.median(ratings)\n",
    "    rating_stdev = statistics.stdev(ratings)\n",
    "    print (\"%s\\t\\t%.4f\\t\\t%s\\t\\t%.4f\" % (genre, rating_mean, rating_median, rating_stdev))  \n",
    "    "
   ]
  },
  {
   "cell_type": "code",
   "execution_count": 18,
   "metadata": {},
   "outputs": [
    {
     "name": "stdout",
     "output_type": "stream",
     "text": [
      "Genre\t\tMean\t\tMedian\t\tStandard deviation\n",
      "Action\t\t3.6111\t\t3.5\t\t0.9462\n",
      "Adventure\t\t3.6335\t\t4.0\t\t0.8741\n",
      "Animation\t\t3.8512\t\t4.0\t\t0.7354\n",
      "Children\t\t3.6458\t\t4.0\t\t0.8387\n",
      "Comedy\t\t3.6078\t\t3.5\t\t0.8972\n",
      "Crime\t\t3.7708\t\t4.0\t\t0.8828\n",
      "Documentary\t\t3.3333\t\t4.0\t\t2.0817\n",
      "Drama\t\t3.7590\t\t4.0\t\t0.8805\n",
      "Fantasy\t\t3.6314\t\t4.0\t\t0.8732\n",
      "Film-Noir\t\t4.1000\t\t4.0\t\t0.2236\n",
      "Horror\t\t3.1714\t\t3.5\t\t1.1628\n",
      "IMAX\t\t3.9054\t\t4.0\t\t0.7438\n",
      "Musical\t\t3.6475\t\t4.0\t\t1.0462\n",
      "Mystery\t\t3.6339\t\t3.5\t\t0.8339\n",
      "Romance\t\t3.7320\t\t4.0\t\t0.8310\n",
      "Sci-Fi\t\t3.4508\t\t3.5\t\t1.0016\n",
      "Thriller\t\t3.5379\t\t3.5\t\t0.8932\n",
      "War\t\t3.8545\t\t4.0\t\t0.9010\n",
      "Western\t\t3.5000\t\t3.5\t\t1.0690\n"
     ]
    }
   ],
   "source": [
    "!hdfs dfs -cat /repository/movielens/ratings.csv 2>/dev/null \\\n",
    "    | head -n 1000 \\\n",
    "    | python genreMapper.py \\\n",
    "    | sort \\\n",
    "    | python genreReducer.py"
   ]
  },
  {
   "cell_type": "code",
   "execution_count": 19,
   "metadata": {},
   "outputs": [
    {
     "name": "stdout",
     "output_type": "stream",
     "text": [
      "Genre\t\tMean\t\tMedian\t\tStandard deviation\n",
      "Action\t\t3.4545\t\t3.5\t\t1.0721\n",
      "Adventure\t\t3.5071\t\t3.5\t\t1.0675\n",
      "Animation\t\t3.6105\t\t4.0\t\t1.0317\n",
      "Children\t\t3.4166\t\t3.5\t\t1.1011\n",
      "Comedy\t\t3.4175\t\t3.5\t\t1.0850\n",
      "Crime\t\t3.6785\t\t4.0\t\t1.0132\n",
      "Documentary\t\t3.7228\t\t4.0\t\t1.0220\n",
      "Drama\t\t3.6743\t\t4.0\t\t1.0025\n",
      "Fantasy\t\t3.5030\t\t3.5\t\t1.0868\n",
      "Film-Noir\t\t3.9408\t\t4.0\t\t0.9155\n",
      "Horror\t\t3.2753\t\t3.5\t\t1.1521\n",
      "IMAX\t\t3.6371\t\t4.0\t\t1.0275\n",
      "Musical\t\t3.5439\t\t4.0\t\t1.0627\n",
      "Mystery\t\t3.6615\t\t4.0\t\t1.0119\n",
      "(no genres listed)\t\t3.2080\t\t3.5\t\t1.2311\n",
      "Romance\t\t3.5425\t\t4.0\t\t1.0468\n",
      "Sci-Fi\t\t3.4552\t\t3.5\t\t1.0916\n",
      "Thriller\t\t3.5127\t\t3.5\t\t1.0399\n",
      "War\t\t3.8033\t\t4.0\t\t0.9969\n",
      "Western\t\t3.5716\t\t4.0\t\t1.0256\n"
     ]
    }
   ],
   "source": [
    "!hdfs dfs -cat /repository/movielens/ratings.csv 2>/dev/null \\\n",
    "    | python genreMapper.py \\\n",
    "    | sort \\\n",
    "    | python genreReducer.py"
   ]
  },
  {
   "cell_type": "code",
   "execution_count": 20,
   "metadata": {},
   "outputs": [
    {
     "name": "stdout",
     "output_type": "stream",
     "text": [
      "Overwriting userMapper.py\n"
     ]
    }
   ],
   "source": [
    "%%writefile userMapper.py\n",
    "#!/usr/bin/env python\n",
    "\n",
    "import sys\n",
    "import csv\n",
    "import json\n",
    "\n",
    "movieFile = \"movies.csv\"\n",
    "movieList = {}\n",
    "\n",
    "with open(movieFile, mode = 'r') as infile:\n",
    "    reader = csv.reader(infile)\n",
    "    for row in reader:\n",
    "        movieList[row[0]] = {}\n",
    "        movieList[row[0]][\"title\"] = row[1]\n",
    "        movieList[row[0]][\"genre\"] = row[2].strip().split(\"|\")\n",
    "\n",
    "userDict = {}\n",
    "        \n",
    "for oneMovie in sys.stdin:\n",
    "    oneMovie = oneMovie.strip()\n",
    "    ratingInfo = oneMovie.split(\",\")\n",
    "    try:\n",
    "        user = int(ratingInfo[0])\n",
    "        movieTitle = movieList[ratingInfo[1]][\"title\"]\n",
    "        movieGenre = movieList[ratingInfo[1]][\"genre\"]\n",
    "        rating = float(ratingInfo[2])\n",
    "        \n",
    "        if user in userDict:\n",
    "            userDict[user][\"count\"] += 1            \n",
    "        else:\n",
    "            userDict[user] = {}\n",
    "            userDict[user][\"count\"] = 1\n",
    "            userDict[user][\"genre\"] = {}\n",
    "        for genre in movieGenre:\n",
    "            if genre not in userDict[user][\"genre\"]:\n",
    "                userDict[user][\"genre\"][genre] = 0\n",
    "            userDict[user][\"genre\"][genre] += 1\n",
    "    except ValueError:\n",
    "        continue\n",
    "        \n",
    "for user in userDict:\n",
    "    print(\"%s\\t%s\" % (user, json.dumps(userDict[user])))\n"
   ]
  },
  {
   "cell_type": "code",
   "execution_count": 21,
   "metadata": {},
   "outputs": [
    {
     "name": "stdout",
     "output_type": "stream",
     "text": [
      "1\t{\"genre\": {\"Action\": 1, \"Drama\": 3, \"Thriller\": 2, \"Sci-Fi\": 1, \"Comedy\": 2, \"Horror\": 1, \"Romance\": 2, \"Crime\": 1}, \"count\": 7}\r\n",
      "2\t{\"genre\": {\"Action\": 4, \"War\": 1, \"Drama\": 4, \"Thriller\": 4, \"Mystery\": 1, \"Adventure\": 2, \"Comedy\": 3, \"Sci-Fi\": 1, \"Romance\": 2, \"Crime\": 1}, \"count\": 10}\r\n",
      "3\t{\"genre\": {\"Western\": 3, \"Fantasy\": 6, \"Animation\": 7, \"Adventure\": 17, \"Horror\": 1, \"Crime\": 8, \"Action\": 16, \"War\": 2, \"Drama\": 27, \"Thriller\": 26, \"Mystery\": 3, \"Musical\": 8, \"Comedy\": 24, \"Sci-Fi\": 3, \"Children\": 13, \"IMAX\": 3, \"Romance\": 17}, \"count\": 62}\r\n",
      "4\t{\"genre\": {\"Comedy\": 1, \"Musical\": 1, \"Adventure\": 1, \"Children\": 1}, \"count\": 1}\r\n",
      "5\t{\"genre\": {\"Fantasy\": 1, \"Sci-Fi\": 5, \"Adventure\": 8, \"Crime\": 5, \"Action\": 7, \"War\": 2, \"Drama\": 7, \"Thriller\": 7, \"Mystery\": 2, \"Film-Noir\": 1, \"Musical\": 1, \"Comedy\": 8, \"Romance\": 2}, \"count\": 19}\r\n"
     ]
    }
   ],
   "source": [
    "!hdfs dfs -cat /repository/movielens/ratings.csv 2>/dev/null \\\n",
    "    | head -n 100 \\\n",
    "    | python userMapper.py \\"
   ]
  },
  {
   "cell_type": "code",
   "execution_count": 22,
   "metadata": {},
   "outputs": [
    {
     "name": "stdout",
     "output_type": "stream",
     "text": [
      "1\t{\"count\": 7, \"genre\": {\"Sci-Fi\": 1, \"Thriller\": 2, \"Horror\": 1, \"Romance\": 2, \"Action\": 1, \"Crime\": 1, \"Comedy\": 2, \"Drama\": 3}}\r\n",
      "2\t{\"count\": 10, \"genre\": {\"Adventure\": 2, \"Sci-Fi\": 1, \"War\": 1, \"Thriller\": 4, \"Romance\": 2, \"Action\": 4, \"Crime\": 1, \"Mystery\": 1, \"Comedy\": 3, \"Drama\": 4}}\r\n",
      "3\t{\"count\": 62, \"genre\": {\"Sci-Fi\": 3, \"IMAX\": 3, \"War\": 2, \"Fantasy\": 6, \"Romance\": 17, \"Musical\": 8, \"Comedy\": 24, \"Animation\": 7, \"Crime\": 8, \"Adventure\": 17, \"Action\": 16, \"Thriller\": 26, \"Western\": 3, \"Horror\": 1, \"Mystery\": 3, \"Drama\": 27, \"Children\": 13}}\r\n",
      "4\t{\"count\": 1, \"genre\": {\"Adventure\": 1, \"Musical\": 1, \"Comedy\": 1, \"Children\": 1}}\r\n",
      "5\t{\"count\": 19, \"genre\": {\"Film-Noir\": 1, \"Sci-Fi\": 5, \"War\": 2, \"Fantasy\": 1, \"Romance\": 2, \"Musical\": 1, \"Crime\": 5, \"Comedy\": 8, \"Adventure\": 8, \"Action\": 7, \"Thriller\": 7, \"Mystery\": 2, \"Drama\": 7}}\r\n"
     ]
    }
   ],
   "source": [
    "!hdfs dfs -cat /repository/movielens/ratings.csv 2>/dev/null \\\n",
    "    | head -n 100 \\\n",
    "    | python userMapper.py \\\n",
    "    | sort"
   ]
  },
  {
   "cell_type": "code",
   "execution_count": 23,
   "metadata": {},
   "outputs": [
    {
     "name": "stdout",
     "output_type": "stream",
     "text": [
      "Overwriting userReducer.py\n"
     ]
    }
   ],
   "source": [
    "%%writefile userReducer.py\n",
    "#!/usr/bin/env python\n",
    "\n",
    "import sys\n",
    "import csv\n",
    "import json\n",
    "\n",
    "mostRatingUser = None\n",
    "mostRatingCount = 0\n",
    "genreDict = None\n",
    "\n",
    "for line in sys.stdin:\n",
    "    line = line.strip()\n",
    "    user, genreString = line.split(\"\\t\", 1)\n",
    "    genreInfo = json.loads(genreString)\n",
    "\n",
    "    if not mostRatingUser or genreInfo[\"count\"] > mostRatingCount:\n",
    "        mostRatingUser = user\n",
    "        mostRatingCount = genreInfo[\"count\"] \n",
    "        genreDict = genreInfo[\"genre\"]\n",
    "        \n",
    "# print(genreDict)\n",
    "\n",
    "mostRatedCount = 0\n",
    "mostRatedGenre = None\n",
    "\n",
    "for genre, count in genreDict.items():\n",
    "    if count > mostRatedCount:\n",
    "        mostRatedCount = count\n",
    "        mostRatedGenre = genre\n",
    "    \n",
    "print(\"%s -- Total Rating Counts: %d -- Most Rated Genre: %s - %d\" % (mostRatingUser, mostRatingCount, mostRatedGenre, mostRatedCount))"
   ]
  },
  {
   "cell_type": "code",
   "execution_count": 24,
   "metadata": {},
   "outputs": [
    {
     "name": "stdout",
     "output_type": "stream",
     "text": [
      "18 -- Total Rating Counts: 252 -- Most Rated Genre: Drama - 145\r\n"
     ]
    }
   ],
   "source": [
    "!hdfs dfs -cat /repository/movielens/ratings.csv 2>/dev/null \\\n",
    "    | head -n 1000 \\\n",
    "    | python userMapper.py \\\n",
    "    | sort \\\n",
    "    | python userReducer.py"
   ]
  },
  {
   "cell_type": "code",
   "execution_count": 25,
   "metadata": {},
   "outputs": [
    {
     "name": "stdout",
     "output_type": "stream",
     "text": [
      "186590 -- Total Rating Counts: 13250 -- Most Rated Genre: Drama - 8026\r\n"
     ]
    }
   ],
   "source": [
    "!hdfs dfs -cat /repository/movielens/ratings.csv 2>/dev/null \\\n",
    "    | python userMapper.py \\\n",
    "    | sort \\\n",
    "    | python userReducer.py"
   ]
  },
  {
   "cell_type": "markdown",
   "metadata": {},
   "source": [
    "#### Full execution on HDFS"
   ]
  },
  {
   "cell_type": "code",
   "execution_count": 26,
   "metadata": {},
   "outputs": [
    {
     "name": "stdout",
     "output_type": "stream",
     "text": [
      "19/04/09 14:09:31 INFO fs.TrashPolicyDefault: Moved: 'hdfs://dsci/user/yuzhey/output-meanGenre' to trash at: hdfs://dsci/user/yuzhey/.Trash/Current/user/yuzhey/output-meanGenre\n",
      "19/04/09 14:09:32 WARN streaming.StreamJob: -file option is deprecated, please use generic option -files instead.\n",
      "packageJobJar: [./meanGenreMapper.py, ./meanGenreReducer.py, ./movies.csv] [/usr/hdp/2.6.5.0-292/hadoop-mapreduce/hadoop-streaming-2.7.3.2.6.5.0-292.jar] /hadoop_java_io_tmpdir/streamjob7537557681859204325.jar tmpDir=null\n",
      "19/04/09 14:09:33 INFO client.AHSProxy: Connecting to Application History server at dscim003.palmetto.clemson.edu/10.125.8.215:10200\n",
      "19/04/09 14:09:33 INFO client.AHSProxy: Connecting to Application History server at dscim003.palmetto.clemson.edu/10.125.8.215:10200\n",
      "19/04/09 14:09:33 INFO hdfs.DFSClient: Created HDFS_DELEGATION_TOKEN token 22231 for yuzhey on ha-hdfs:dsci\n",
      "19/04/09 14:09:33 INFO security.TokenCache: Got dt for hdfs://dsci; Kind: HDFS_DELEGATION_TOKEN, Service: ha-hdfs:dsci, Ident: (HDFS_DELEGATION_TOKEN token 22231 for yuzhey)\n",
      "19/04/09 14:09:33 INFO lzo.GPLNativeCodeLoader: Loaded native gpl library\n",
      "19/04/09 14:09:33 INFO lzo.LzoCodec: Successfully loaded & initialized native-lzo library [hadoop-lzo rev 77914d73bfc2e32253ff2bb7c61d03eaca973704]\n",
      "19/04/09 14:09:33 INFO mapred.FileInputFormat: Total input paths to process : 1\n",
      "19/04/09 14:09:33 INFO mapreduce.JobSubmitter: number of splits:5\n",
      "19/04/09 14:09:33 INFO mapreduce.JobSubmitter: Submitting tokens for job: job_1553277363335_0402\n",
      "19/04/09 14:09:33 INFO mapreduce.JobSubmitter: Kind: HDFS_DELEGATION_TOKEN, Service: ha-hdfs:dsci, Ident: (HDFS_DELEGATION_TOKEN token 22231 for yuzhey)\n",
      "19/04/09 14:09:34 INFO impl.TimelineClientImpl: Timeline service address: http://dscim003.palmetto.clemson.edu:8188/ws/v1/timeline/\n",
      "19/04/09 14:09:34 INFO impl.YarnClientImpl: Submitted application application_1553277363335_0402\n",
      "19/04/09 14:09:34 INFO mapreduce.Job: The url to track the job: http://dscim001.palmetto.clemson.edu:8088/proxy/application_1553277363335_0402/\n",
      "19/04/09 14:09:34 INFO mapreduce.Job: Running job: job_1553277363335_0402\n",
      "19/04/09 14:09:41 INFO mapreduce.Job: Job job_1553277363335_0402 running in uber mode : false\n",
      "19/04/09 14:09:41 INFO mapreduce.Job:  map 0% reduce 0%\n",
      "19/04/09 14:09:52 INFO mapreduce.Job:  map 31% reduce 0%\n",
      "19/04/09 14:09:55 INFO mapreduce.Job:  map 50% reduce 0%\n",
      "19/04/09 14:09:57 INFO mapreduce.Job:  map 59% reduce 0%\n",
      "19/04/09 14:09:58 INFO mapreduce.Job:  map 93% reduce 0%\n",
      "19/04/09 14:09:59 INFO mapreduce.Job:  map 100% reduce 0%\n",
      "19/04/09 14:10:02 INFO mapreduce.Job:  map 100% reduce 100%\n",
      "19/04/09 14:10:02 INFO mapreduce.Job: Job job_1553277363335_0402 completed successfully\n",
      "19/04/09 14:10:02 INFO mapreduce.Job: Counters: 50\n",
      "\tFile System Counters\n",
      "\t\tFILE: Number of bytes read=6105\n",
      "\t\tFILE: Number of bytes written=1013399\n",
      "\t\tFILE: Number of read operations=0\n",
      "\t\tFILE: Number of large read operations=0\n",
      "\t\tFILE: Number of write operations=0\n",
      "\t\tHDFS: Number of bytes read=663945432\n",
      "\t\tHDFS: Number of bytes written=2224\n",
      "\t\tHDFS: Number of read operations=18\n",
      "\t\tHDFS: Number of large read operations=0\n",
      "\t\tHDFS: Number of write operations=2\n",
      "\tJob Counters \n",
      "\t\tLaunched map tasks=5\n",
      "\t\tLaunched reduce tasks=1\n",
      "\t\tData-local map tasks=2\n",
      "\t\tRack-local map tasks=3\n",
      "\t\tTotal time spent by all maps in occupied slots (ms)=232974\n",
      "\t\tTotal time spent by all reduces in occupied slots (ms)=6288\n",
      "\t\tTotal time spent by all map tasks (ms)=77658\n",
      "\t\tTotal time spent by all reduce tasks (ms)=2096\n",
      "\t\tTotal vcore-milliseconds taken by all map tasks=77658\n",
      "\t\tTotal vcore-milliseconds taken by all reduce tasks=2096\n",
      "\t\tTotal megabyte-milliseconds taken by all map tasks=1001166936\n",
      "\t\tTotal megabyte-milliseconds taken by all reduce tasks=27021632\n",
      "\tMap-Reduce Framework\n",
      "\t\tMap input records=24404097\n",
      "\t\tMap output records=100\n",
      "\t\tMap output bytes=5899\n",
      "\t\tMap output materialized bytes=6129\n",
      "\t\tInput split bytes=480\n",
      "\t\tCombine input records=0\n",
      "\t\tCombine output records=0\n",
      "\t\tReduce input groups=20\n",
      "\t\tReduce shuffle bytes=6129\n",
      "\t\tReduce input records=100\n",
      "\t\tReduce output records=100\n",
      "\t\tSpilled Records=200\n",
      "\t\tShuffled Maps =5\n",
      "\t\tFailed Shuffles=0\n",
      "\t\tMerged Map outputs=5\n",
      "\t\tGC time elapsed (ms)=2562\n",
      "\t\tCPU time spent (ms)=128750\n",
      "\t\tPhysical memory (bytes) snapshot=13805170688\n",
      "\t\tVirtual memory (bytes) snapshot=79746854912\n",
      "\t\tTotal committed heap usage (bytes)=15795224576\n",
      "\tShuffle Errors\n",
      "\t\tBAD_ID=0\n",
      "\t\tCONNECTION=0\n",
      "\t\tIO_ERROR=0\n",
      "\t\tWRONG_LENGTH=0\n",
      "\t\tWRONG_MAP=0\n",
      "\t\tWRONG_REDUCE=0\n",
      "\tFile Input Format Counters \n",
      "\t\tBytes Read=663944952\n",
      "\tFile Output Format Counters \n",
      "\t\tBytes Written=2224\n",
      "19/04/09 14:10:02 INFO streaming.StreamJob: Output directory: ./output-meanGenre\n"
     ]
    }
   ],
   "source": [
    "!hdfs dfs -rm -R ./output-meanGenre\n",
    "!yarn jar /usr/hdp/current/hadoop-mapreduce-client/hadoop-streaming.jar \\\n",
    "    -input /repository/movielens/ratings.csv \\\n",
    "    -output ./output-meanGenre \\\n",
    "    -file ./meanGenreMapper.py \\\n",
    "    -mapper meanGenreMapper.py \\\n",
    "    -file ./meanGenreReducer.py \\\n",
    "    -reducer meanGenreReducer.py \\\n",
    "    -file ./movies.csv"
   ]
  },
  {
   "cell_type": "code",
   "execution_count": 27,
   "metadata": {},
   "outputs": [
    {
     "name": "stdout",
     "output_type": "stream",
     "text": [
      "(no genres listed)\t3.24496056091\r\n",
      "(no genres listed)\t3.06960352423\r\n",
      "(no genres listed)\t3.13632514818\r\n",
      "(no genres listed)\t3.24122807018\r\n",
      "(no genres listed)\t3.33320433437\r\n",
      "Action\t3.45845824548\r\n",
      "Action\t3.45894409618\r\n",
      "Action\t3.45852368671\r\n",
      "Action\t3.44444281044\r\n",
      "Action\t3.45127443462\r\n",
      "Adventure\t3.49949764004\r\n",
      "Adventure\t3.50983028992\r\n",
      "Adventure\t3.51170577777\r\n",
      "Adventure\t3.51365006298\r\n",
      "Adventure\t3.50045914479\r\n",
      "Animation\t3.60252051056\r\n",
      "Animation\t3.61029521137\r\n",
      "Animation\t3.59798601506\r\n",
      "Animation\t3.61306183751\r\n",
      "Animation\t3.62827657548\r\n",
      "Children\t3.43086201442\r\n",
      "Children\t3.40942305911\r\n",
      "Children\t3.4076072136\r\n",
      "Children\t3.42058416433\r\n",
      "Children\t3.41414288185\r\n",
      "Comedy\t3.4145183972\r\n",
      "Comedy\t3.41103262748\r\n",
      "Comedy\t3.4240967791\r\n",
      "Comedy\t3.41294742788\r\n",
      "Comedy\t3.42433055487\r\n",
      "Crime\t3.68327146944\r\n",
      "Crime\t3.68252001502\r\n",
      "Crime\t3.68051272167\r\n",
      "Crime\t3.67117984465\r\n",
      "Crime\t3.67464524153\r\n",
      "Documentary\t3.70401121754\r\n",
      "Documentary\t3.71807109665\r\n",
      "Documentary\t3.72438481388\r\n",
      "Documentary\t3.73771762654\r\n",
      "Documentary\t3.7307135799\r\n",
      "Drama\t3.67299605853\r\n",
      "Drama\t3.67826043418\r\n",
      "Drama\t3.66980712371\r\n",
      "Drama\t3.67062916815\r\n",
      "Drama\t3.679617718\r\n",
      "Fantasy\t3.51467193624\r\n",
      "Fantasy\t3.49397514261\r\n",
      "Fantasy\t3.49342761127\r\n",
      "Fantasy\t3.5112956598\r\n",
      "Fantasy\t3.50104116596\r\n",
      "Film-Noir\t3.93615338177\r\n",
      "Film-Noir\t3.95015418409\r\n",
      "Film-Noir\t3.94425134206\r\n",
      "Film-Noir\t3.93200114188\r\n",
      "Film-Noir\t3.94211319996\r\n",
      "Horror\t3.28701293883\r\n",
      "Horror\t3.28432572491\r\n",
      "Horror\t3.27370501473\r\n",
      "Horror\t3.25448729729\r\n",
      "Horror\t3.27581586232\r\n",
      "IMAX\t3.6223382545\r\n",
      "IMAX\t3.64295957885\r\n",
      "IMAX\t3.6452719762\r\n",
      "IMAX\t3.64507861476\r\n",
      "IMAX\t3.6297075954\r\n",
      "Musical\t3.53381135657\r\n",
      "Musical\t3.55182630207\r\n",
      "Musical\t3.53932523629\r\n",
      "Musical\t3.5344034885\r\n",
      "Musical\t3.55929003747\r\n",
      "Mystery\t3.67001636455\r\n",
      "Mystery\t3.65411453591\r\n",
      "Mystery\t3.65721539948\r\n",
      "Mystery\t3.66826478773\r\n",
      "Mystery\t3.65772155812\r\n",
      "Romance\t3.53622908687\r\n",
      "Romance\t3.54060962351\r\n",
      "Romance\t3.54881184626\r\n",
      "Romance\t3.53906975769\r\n",
      "Romance\t3.54741516242\r\n",
      "Sci-Fi\t3.45936808689\r\n",
      "Sci-Fi\t3.4600744283\r\n",
      "Sci-Fi\t3.4590160275\r\n",
      "Sci-Fi\t3.44652366992\r\n",
      "Sci-Fi\t3.45037814875\r\n",
      "Thriller\t3.50945653733\r\n",
      "Thriller\t3.51382639677\r\n",
      "Thriller\t3.51859726273\r\n",
      "Thriller\t3.51710613615\r\n",
      "Thriller\t3.5040119679\r\n",
      "War\t3.8007199102\r\n",
      "War\t3.80244254285\r\n",
      "War\t3.79621832198\r\n",
      "War\t3.80523318733\r\n",
      "War\t3.8116217732\r\n",
      "Western\t3.57519710712\r\n",
      "Western\t3.58101835248\r\n",
      "Western\t3.57103886159\r\n",
      "Western\t3.57276515729\r\n",
      "Western\t3.55877749719\r\n"
     ]
    }
   ],
   "source": [
    "!hdfs dfs -cat ./output-meanGenre/part-00000"
   ]
  },
  {
   "cell_type": "code",
   "execution_count": 28,
   "metadata": {
    "scrolled": false
   },
   "outputs": [
    {
     "name": "stdout",
     "output_type": "stream",
     "text": [
      "19/04/09 14:10:06 INFO fs.TrashPolicyDefault: Moved: 'hdfs://dsci/user/yuzhey/output-user' to trash at: hdfs://dsci/user/yuzhey/.Trash/Current/user/yuzhey/output-user\n",
      "19/04/09 14:10:07 WARN streaming.StreamJob: -file option is deprecated, please use generic option -files instead.\n",
      "packageJobJar: [./userMapper.py, ./userReducer.py, ./movies.csv] [/usr/hdp/2.6.5.0-292/hadoop-mapreduce/hadoop-streaming-2.7.3.2.6.5.0-292.jar] /hadoop_java_io_tmpdir/streamjob2497842505443311969.jar tmpDir=null\n",
      "19/04/09 14:10:08 INFO client.AHSProxy: Connecting to Application History server at dscim003.palmetto.clemson.edu/10.125.8.215:10200\n",
      "19/04/09 14:10:08 INFO client.AHSProxy: Connecting to Application History server at dscim003.palmetto.clemson.edu/10.125.8.215:10200\n",
      "19/04/09 14:10:08 INFO hdfs.DFSClient: Created HDFS_DELEGATION_TOKEN token 22232 for yuzhey on ha-hdfs:dsci\n",
      "19/04/09 14:10:08 INFO security.TokenCache: Got dt for hdfs://dsci; Kind: HDFS_DELEGATION_TOKEN, Service: ha-hdfs:dsci, Ident: (HDFS_DELEGATION_TOKEN token 22232 for yuzhey)\n",
      "19/04/09 14:10:08 INFO lzo.GPLNativeCodeLoader: Loaded native gpl library\n",
      "19/04/09 14:10:08 INFO lzo.LzoCodec: Successfully loaded & initialized native-lzo library [hadoop-lzo rev 77914d73bfc2e32253ff2bb7c61d03eaca973704]\n",
      "19/04/09 14:10:08 INFO mapred.FileInputFormat: Total input paths to process : 1\n",
      "19/04/09 14:10:08 INFO mapreduce.JobSubmitter: number of splits:5\n",
      "19/04/09 14:10:09 INFO mapreduce.JobSubmitter: Submitting tokens for job: job_1553277363335_0403\n",
      "19/04/09 14:10:09 INFO mapreduce.JobSubmitter: Kind: HDFS_DELEGATION_TOKEN, Service: ha-hdfs:dsci, Ident: (HDFS_DELEGATION_TOKEN token 22232 for yuzhey)\n",
      "19/04/09 14:10:09 INFO impl.TimelineClientImpl: Timeline service address: http://dscim003.palmetto.clemson.edu:8188/ws/v1/timeline/\n",
      "19/04/09 14:10:09 INFO impl.YarnClientImpl: Submitted application application_1553277363335_0403\n",
      "19/04/09 14:10:09 INFO mapreduce.Job: The url to track the job: http://dscim001.palmetto.clemson.edu:8088/proxy/application_1553277363335_0403/\n",
      "19/04/09 14:10:09 INFO mapreduce.Job: Running job: job_1553277363335_0403\n",
      "19/04/09 14:10:17 INFO mapreduce.Job: Job job_1553277363335_0403 running in uber mode : false\n",
      "19/04/09 14:10:17 INFO mapreduce.Job:  map 0% reduce 0%\n",
      "19/04/09 14:10:29 INFO mapreduce.Job:  map 19% reduce 0%\n",
      "19/04/09 14:10:30 INFO mapreduce.Job:  map 22% reduce 0%\n",
      "19/04/09 14:10:32 INFO mapreduce.Job:  map 28% reduce 0%\n",
      "19/04/09 14:10:33 INFO mapreduce.Job:  map 36% reduce 0%\n",
      "19/04/09 14:10:35 INFO mapreduce.Job:  map 42% reduce 0%\n",
      "19/04/09 14:10:36 INFO mapreduce.Job:  map 50% reduce 0%\n",
      "19/04/09 14:10:38 INFO mapreduce.Job:  map 71% reduce 0%\n",
      "19/04/09 14:10:39 INFO mapreduce.Job:  map 87% reduce 0%\n",
      "19/04/09 14:10:41 INFO mapreduce.Job:  map 89% reduce 0%\n",
      "19/04/09 14:10:44 INFO mapreduce.Job:  map 90% reduce 0%\n",
      "19/04/09 14:10:47 INFO mapreduce.Job:  map 92% reduce 0%\n",
      "19/04/09 14:10:49 INFO mapreduce.Job:  map 100% reduce 0%\n",
      "19/04/09 14:10:51 INFO mapreduce.Job:  map 100% reduce 73%\n",
      "19/04/09 14:10:53 INFO mapreduce.Job:  map 100% reduce 100%\n",
      "19/04/09 14:10:53 INFO mapreduce.Job: Job job_1553277363335_0403 completed successfully\n",
      "19/04/09 14:10:53 INFO mapreduce.Job: Counters: 51\n",
      "\tFile System Counters\n",
      "\t\tFILE: Number of bytes read=60711520\n",
      "\t\tFILE: Number of bytes written=122423899\n",
      "\t\tFILE: Number of read operations=0\n",
      "\t\tFILE: Number of large read operations=0\n",
      "\t\tFILE: Number of write operations=0\n",
      "\t\tHDFS: Number of bytes read=663945432\n",
      "\t\tHDFS: Number of bytes written=72\n",
      "\t\tHDFS: Number of read operations=18\n",
      "\t\tHDFS: Number of large read operations=0\n",
      "\t\tHDFS: Number of write operations=2\n",
      "\tJob Counters \n",
      "\t\tKilled map tasks=1\n",
      "\t\tLaunched map tasks=6\n",
      "\t\tLaunched reduce tasks=1\n",
      "\t\tData-local map tasks=1\n",
      "\t\tRack-local map tasks=5\n",
      "\t\tTotal time spent by all maps in occupied slots (ms)=348036\n",
      "\t\tTotal time spent by all reduces in occupied slots (ms)=35670\n",
      "\t\tTotal time spent by all map tasks (ms)=116012\n",
      "\t\tTotal time spent by all reduce tasks (ms)=11890\n",
      "\t\tTotal vcore-milliseconds taken by all map tasks=116012\n",
      "\t\tTotal vcore-milliseconds taken by all reduce tasks=11890\n",
      "\t\tTotal megabyte-milliseconds taken by all map tasks=1495626704\n",
      "\t\tTotal megabyte-milliseconds taken by all reduce tasks=153285880\n",
      "\tMap-Reduce Framework\n",
      "\t\tMap input records=24404097\n",
      "\t\tMap output records=259141\n",
      "\t\tMap output bytes=59864301\n",
      "\t\tMap output materialized bytes=60711544\n",
      "\t\tInput split bytes=480\n",
      "\t\tCombine input records=0\n",
      "\t\tCombine output records=0\n",
      "\t\tReduce input groups=259137\n",
      "\t\tReduce shuffle bytes=60711544\n",
      "\t\tReduce input records=259141\n",
      "\t\tReduce output records=1\n",
      "\t\tSpilled Records=518282\n",
      "\t\tShuffled Maps =5\n",
      "\t\tFailed Shuffles=0\n",
      "\t\tMerged Map outputs=5\n",
      "\t\tGC time elapsed (ms)=3173\n",
      "\t\tCPU time spent (ms)=174750\n",
      "\t\tPhysical memory (bytes) snapshot=13656104960\n",
      "\t\tVirtual memory (bytes) snapshot=79705776128\n",
      "\t\tTotal committed heap usage (bytes)=15672016896\n",
      "\tShuffle Errors\n",
      "\t\tBAD_ID=0\n",
      "\t\tCONNECTION=0\n",
      "\t\tIO_ERROR=0\n",
      "\t\tWRONG_LENGTH=0\n",
      "\t\tWRONG_MAP=0\n",
      "\t\tWRONG_REDUCE=0\n",
      "\tFile Input Format Counters \n",
      "\t\tBytes Read=663944952\n",
      "\tFile Output Format Counters \n",
      "\t\tBytes Written=72\n",
      "19/04/09 14:10:53 INFO streaming.StreamJob: Output directory: ./output-user\n"
     ]
    }
   ],
   "source": [
    "!hdfs dfs -rm -R ./output-user\n",
    "!yarn jar /usr/hdp/current/hadoop-mapreduce-client/hadoop-streaming.jar \\\n",
    "    -input /repository/movielens/ratings.csv \\\n",
    "    -output ./output-user \\\n",
    "    -file ./userMapper.py \\\n",
    "    -mapper userMapper.py \\\n",
    "    -file ./userReducer.py \\\n",
    "    -reducer userReducer.py \\\n",
    "    -file ./movies.csv"
   ]
  },
  {
   "cell_type": "code",
   "execution_count": 29,
   "metadata": {},
   "outputs": [
    {
     "name": "stdout",
     "output_type": "stream",
     "text": [
      "186590 -- Total Rating Counts: 13250 -- Most Rated Genre: Drama - 8026\t\r\n"
     ]
    }
   ],
   "source": [
    "!hdfs dfs -cat ./output-user/part-00000"
   ]
  },
  {
   "cell_type": "code",
   "execution_count": null,
   "metadata": {},
   "outputs": [],
   "source": []
  }
 ],
 "metadata": {
  "kernelspec": {
   "display_name": "Python 3 (Anaconda 5.1.0)",
   "language": "python",
   "name": "anaconda3-5.1.0"
  },
  "language_info": {
   "codemirror_mode": {
    "name": "ipython",
    "version": 3
   },
   "file_extension": ".py",
   "mimetype": "text/x-python",
   "name": "python",
   "nbconvert_exporter": "python",
   "pygments_lexer": "ipython3",
   "version": "3.6.4"
  }
 },
 "nbformat": 4,
 "nbformat_minor": 1
}
