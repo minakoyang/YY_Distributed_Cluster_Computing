{
 "cells": [
  {
   "cell_type": "code",
   "execution_count": 1,
   "metadata": {},
   "outputs": [],
   "source": [
    "!module add hdp\n",
    "!cypress-kinit"
   ]
  },
  {
   "cell_type": "code",
   "execution_count": 2,
   "metadata": {},
   "outputs": [
    {
     "name": "stdout",
     "output_type": "stream",
     "text": [
      "Found 7 items\r\n",
      "-rw-r--r--   2 lngo hdfs-user      9.3 K 2017-03-15 09:49 /repository/movielens/README.txt\r\n",
      "-rw-r--r--   2 lngo hdfs-user    317.9 M 2017-03-15 09:49 /repository/movielens/genome-scores.csv\r\n",
      "-rw-r--r--   2 lngo hdfs-user     17.7 K 2017-03-15 09:49 /repository/movielens/genome-tags.csv\r\n",
      "-rw-r--r--   2 lngo hdfs-user    839.2 K 2017-03-15 09:49 /repository/movielens/links.csv\r\n",
      "-rw-r--r--   2 lngo hdfs-user      1.9 M 2017-03-15 09:49 /repository/movielens/movies.csv\r\n",
      "-rw-r--r--   2 lngo hdfs-user    632.7 M 2017-03-15 09:49 /repository/movielens/ratings.csv\r\n",
      "-rw-r--r--   2 lngo hdfs-user     22.9 M 2017-03-15 09:49 /repository/movielens/tags.csv\r\n"
     ]
    }
   ],
   "source": [
    "!hdfs dfs -ls -h /repository/movielens  #the movieLen dataset was update in March 2017."
   ]
  },
  {
   "cell_type": "code",
   "execution_count": 6,
   "metadata": {},
   "outputs": [
    {
     "name": "stdout",
     "output_type": "stream",
     "text": [
      "Overwriting solution/userMapper.py\n"
     ]
    }
   ],
   "source": [
    "%%writefile solution/userMapper.py\n",
    "#!/usr/bin/env python\n",
    "\n",
    "import sys\n",
    "import csv\n",
    "import json\n",
    "\n",
    "movieFile = \"./movielens/movies.csv\"\n",
    "movieList = {}\n",
    "\n",
    "with open(movieFile, mode = 'r') as infile:\n",
    "    reader = csv.reader(infile)\n",
    "    for row in reader:\n",
    "        movieList[row[0]] = {}\n",
    "        movieList[row[0]][\"title\"] = row[1]\n",
    "        movieList[row[0]][\"genre\"] = row[2].strip().split(\"|\")\n",
    "\n",
    "userDict = {}\n",
    "        \n",
    "for oneMovie in sys.stdin:\n",
    "    oneMovie = oneMovie.strip()\n",
    "    ratingInfo = oneMovie.split(\",\")\n",
    "    try:\n",
    "        user = int(ratingInfo[0])\n",
    "        movieTitle = movieList[ratingInfo[1]][\"title\"]\n",
    "        movieGenre = movieList[ratingInfo[1]][\"genre\"]\n",
    "        rating = float(ratingInfo[2])\n",
    "        \n",
    "        if user not in userDict:\n",
    "            userDict[user] = []\n",
    "        userDict[user].append(movieGenre)  \n",
    "    except ValueError:\n",
    "        continue\n",
    "        \n",
    "for user in userDict:\n",
    "    print(\"%s\\t%s\" % (user, json.dumps(userDict[user])))"
   ]
  },
  {
   "cell_type": "code",
   "execution_count": 4,
   "metadata": {},
   "outputs": [
    {
     "name": "stdout",
     "output_type": "stream",
     "text": [
      "Writing solution/userReducer.py\n"
     ]
    }
   ],
   "source": [
    "%%writefile solution/userReducer.py \n",
    "#!/usr/bin/env python\n",
    "\n",
    "import sys\n",
    "import csv\n",
    "import json\n",
    "\n",
    "mostRatingUser = None\n",
    "mostRatingCount = 0\n",
    "mostRatingInfo = None\n",
    "\n",
    "for line in sys.stdin:\n",
    "    line = line.strip()\n",
    "    user, genreString = line.split(\"\\t\", 1)\n",
    "    genreInfo = json.loads(genreString)\n",
    "\n",
    "    if not mostRatingUser or len(genreInfo) > mostRatingCount:\n",
    "        mostRatingUser = user\n",
    "        mostRatingCount = len(genreInfo)\n",
    "        mostRatingInfo = genreInfo\n",
    "        \n",
    "# print(mostRatingCount)\n",
    "\n",
    "genreDict = {}\n",
    "for genreList in mostRatingInfo:\n",
    "    for genre in genreList:    \n",
    "        if genre not in genreDict:\n",
    "            genreDict[genre] = 0\n",
    "        genreDict[genre] += 1 \n",
    "\n",
    "mostRatedCount = 0\n",
    "mostRatedGenre = None\n",
    "\n",
    "for genre, count in genreDict.items():\n",
    "    if count > mostRatedCount:\n",
    "        mostRatedCount = count\n",
    "        mostRatedGenre = genre\n",
    "    \n",
    "print(\"%s -- Total Rating Counts: %d -- Most Rated Genre: %s - %d\" % (mostRatingUser, mostRatingCount, mostRatedGenre, mostRatedCount))"
   ]
  },
  {
   "cell_type": "code",
   "execution_count": 7,
   "metadata": {},
   "outputs": [
    {
     "name": "stdout",
     "output_type": "stream",
     "text": [
      "186590 -- Total Rating Counts: 13250 -- Most Rated Genre: Drama - 8026\r\n"
     ]
    }
   ],
   "source": [
    "!hdfs dfs -cat /repository/movielens/ratings.csv 2>/dev/null \\\n",
    "    | python ./solution/userMapper.py \\\n",
    "    | sort \\\n",
    "    | python ./solution/userReducer.py"
   ]
  }
 ],
 "metadata": {
  "kernelspec": {
   "display_name": "Python 3 (Anaconda 5.1.0)",
   "language": "python",
   "name": "anaconda3-5.1.0"
  },
  "language_info": {
   "codemirror_mode": {
    "name": "ipython",
    "version": 3
   },
   "file_extension": ".py",
   "mimetype": "text/x-python",
   "name": "python",
   "nbconvert_exporter": "python",
   "pygments_lexer": "ipython3",
   "version": "3.6.4"
  }
 },
 "nbformat": 4,
 "nbformat_minor": 2
}
